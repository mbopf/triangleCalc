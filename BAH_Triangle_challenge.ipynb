{
 "cells": [
  {
   "cell_type": "code",
   "execution_count": 5,
   "metadata": {
    "collapsed": true
   },
   "outputs": [],
   "source": [
    "import numpy as np\n",
    "import pandas as pd"
   ]
  },
  {
   "cell_type": "code",
   "execution_count": 33,
   "metadata": {},
   "outputs": [],
   "source": [
    "df = pd.DataFrame(np.random.rand(500000,2))\n",
    "df['diff'] = np.absolute(df[0]-df[1]) > 0.5\n",
    "df['low'] = (df[0] < 0.5) & (df[1] < 0.5)\n",
    "df['high'] = (df[0] > 0.5) & (df[1] > 0.5)\n",
    "df['invalid'] = df['diff'] | df['low'] | df['high']\n",
    "df['valid'] = ~df['invalid']"
   ]
  },
  {
   "cell_type": "code",
   "execution_count": 31,
   "metadata": {},
   "outputs": [
    {
     "data": {
      "text/plain": [
       "0          0.500814\n",
       "1          0.500153\n",
       "diff       0.251038\n",
       "high       0.249020\n",
       "low        0.249656\n",
       "invalid    0.749714\n",
       "valid      0.250286\n",
       "dtype: float64"
      ]
     },
     "execution_count": 31,
     "metadata": {},
     "output_type": "execute_result"
    }
   ],
   "source": [
    "df.mean()"
   ]
  }
 ],
 "metadata": {
  "kernelspec": {
   "display_name": "Python 3",
   "language": "python",
   "name": "python3"
  },
  "language_info": {
   "codemirror_mode": {
    "name": "ipython",
    "version": 3
   },
   "file_extension": ".py",
   "mimetype": "text/x-python",
   "name": "python",
   "nbconvert_exporter": "python",
   "pygments_lexer": "ipython3",
   "version": "3.6.1"
  }
 },
 "nbformat": 4,
 "nbformat_minor": 2
}
